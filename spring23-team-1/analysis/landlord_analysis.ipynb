{
  "nbformat": 4,
  "nbformat_minor": 0,
  "metadata": {
    "colab": {
      "provenance": []
    },
    "kernelspec": {
      "name": "python3",
      "display_name": "Python 3"
    },
    "language_info": {
      "name": "python"
    }
  },
  "cells": [
    {
      "cell_type": "markdown",
      "source": [
        "Landlord analysis. @Chengyu Zhang\n",
        "\n",
        "For key question 1:What is the spectrum of violations and severity in regards to worst landlords classifications?\n",
        "\n",
        "- Step 1\n",
        "  counting all the building violations\n",
        "\n",
        "- Step 2\n",
        "  base on the landlords assessment. Find the owner of the buildings, so we can get the landlords' violations.\n",
        "\n",
        "  "
      ],
      "metadata": {
        "id": "prQeFNuzcgsf"
      }
    },
    {
      "cell_type": "code",
      "source": [
        "import pandas as pd\n",
        "import numpy as np\n",
        "\n",
        "\n",
        "# read csv data from building and violations file.\n",
        "def fetch_building_violations():\n",
        "    df = pd.read_csv(\"./tmpc1fh5mf6.csv\", low_memory=False)\n",
        "    return df\n",
        "\n",
        "\n",
        "# read csv data: landlord assessment. Which contains the corelation between landlord and the building(address).\n",
        "def fetch_landlord_assessment():\n",
        "    df = pd.read_csv(\"./fy2022pa-4.csv\", low_memory=False)\n",
        "    return df\n",
        "\n",
        "\n",
        "# ------------------------------------------------------------------------------------------------------------------------\n",
        "def get_violation_by_building():\n",
        "    vio_df = fetch_building_violations()\n",
        "\n",
        "    # get violation address.\n",
        "    vio_new_df = vio_df[['case_no', 'status_dttm', 'status', 'violation_sthigh', 'violation_street', 'violation_suffix',\n",
        "                         'violation_stno', 'violation_city', 'violation_zip']]\n",
        "    vio_new_df = vio_new_df.astype(object).replace(np.nan, ' ')\n",
        "\n",
        "    # count the violation by house(address).\n",
        "    vio_new_df['ST_NAME'] = vio_new_df['violation_sthigh'].astype(str) + \" \" + vio_new_df['violation_street'].astype(\n",
        "        str) + \" \" + vio_new_df['violation_suffix']\n",
        "    vio_count_df = vio_new_df.groupby(['ST_NAME', 'violation_city', 'violation_zip'], as_index=True)['case_no'].size().reset_index(name='counts').sort_values(\"counts\", ascending=False)\n",
        "\n",
        "    print(vio_count_df.head(10))\n",
        "    return vio_count_df\n",
        "\n",
        "\n",
        "def get_violation_by_landlord():\n",
        "    vio_df = get_violation_by_building()\n",
        "\n",
        "    land_df = fetch_landlord_assessment()\n",
        "    print(land_df.columns)\n",
        "\n",
        "    # land_new_df = land_df[['']]\n",
        "\n",
        "\n",
        "\n",
        "if __name__ == '__main__':\n",
        "    get_violation_by_building()\n",
        "\n",
        "\n"
      ],
      "metadata": {
        "colab": {
          "base_uri": "https://localhost:8080/"
        },
        "id": "A3PjpNj8dISB",
        "outputId": "724c93c8-9458-4228-9462-b4f7229450cf"
      },
      "execution_count": null,
      "outputs": [
        {
          "output_type": "stream",
          "name": "stdout",
          "text": [
            "              ST_NAME violation_city violation_zip  counts\n",
            "474        Chelsea ST    East Boston         02128     182\n",
            "2043      Saratoga ST    East Boston         02128     132\n",
            "10           Adams ST     Dorchester         02122     114\n",
            "448         Centre ST  Jamaica Plain         02130     114\n",
            "693          Devon ST     Dorchester         02121     110\n",
            "2190        Sumner ST    East Boston         02128     100\n",
            "1862     Princeton ST    East Boston         02128      96\n",
            "330        Broadway     South Boston         02127      94\n",
            "166         Beacon ST         Boston         02116      92\n",
            "210     Bennington ST    East Boston         02128      92\n"
          ]
        }
      ]
    }
  ]
}