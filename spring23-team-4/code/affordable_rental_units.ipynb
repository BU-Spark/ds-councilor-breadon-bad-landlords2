{
 "cells": [
  {
   "cell_type": "markdown",
   "source": [
    "# Affordable rental units\n",
    "#### Author: Francesco Ciraolo\n",
    "\n",
    "## Dataset origin\n",
    "https://www.bostonplans.org/housing/finding-housing/property-listings\n",
    "\n",
    "## Goals\n",
    " - Extracting the rental units table, explode by layouts and associate the positions\n",
    "\n",
    "### Transversal Goals\n",
    "#### For deliverable 1\n",
    " - Match with most common violations\n"
   ],
   "metadata": {
    "collapsed": false
   }
  },
  {
   "cell_type": "code",
   "execution_count": 1,
   "metadata": {
    "collapsed": true
   },
   "outputs": [],
   "source": [
    "import os\n",
    "import pandas as pd\n",
    "import re"
   ]
  },
  {
   "cell_type": "code",
   "execution_count": 10,
   "outputs": [],
   "source": [
    "from geopy import Nominatim\n",
    "class AddressToCoordinates:\n",
    "\n",
    "    def __init__(self, user_agent='undefined'):\n",
    "        self.user_agent = user_agent\n",
    "        self.geolocator = Nominatim(user_agent=user_agent)\n",
    "\n",
    "    def get_coordinates(self, address):\n",
    "        location = self.geolocator.geocode(address)\n",
    "        return (location.latitude, location.longitude) if location else (None, None)\n",
    "\n",
    "atc = AddressToCoordinates()"
   ],
   "metadata": {
    "collapsed": false
   }
  },
  {
   "cell_type": "code",
   "execution_count": 39,
   "outputs": [
    {
     "data": {
      "text/plain": "     Neighborhood                   Address  Units                  Sizes  \\\n0         Allston           8 Griggs Street    2.0                    1BR   \n1         Allston    31 North Beacon Street    3.0       Studio, 1BR, 2BR   \n2         Allston         40 Malvern Street    6.0               1BR, 2BR   \n3         Allston      450 Cambridge Street    5.0               1BR, 2BR   \n4         Allston  1505 Commonwealth Avenue   10.0       Studio, 1BR, 2BR   \n..            ...                       ...    ...                    ...   \n112      West End                      None   30.0  Studio, 1BR, 2BR, 3BR   \n113      West End      1 & 10 Emerson Place   19.0       Studio, 1BR, 2BR   \n114  West Roxbury       446 Belgrade Avenue    5.0  Studio, 1BR, 2BR, 3BR   \n115  West Roxbury        1215 Centre Street   12.0                    1BR   \n116  West Roxbury          1235 VFW Parkway   10.0          1BR, 2BR, 3BR   \n\n               AMI                   Complex   Latitude  Longitude  \n0    80-100%; 100%                      None  42.348330 -71.133503  \n1              70%                      None  42.353909 -71.138789  \n2              70%                      None  42.354018 -71.125015  \n3              70%                      None  42.353926 -71.135720  \n4              70%                      None  42.347084 -71.141588  \n..             ...                       ...        ...        ...  \n112   80%, 80-120%      Avalon North Station  42.365964 -71.063249  \n113            90%             Emerson Place  42.364165 -71.068558  \n114            70%            Belgrade Place  42.286486 -71.150155  \n115            80%  Residences at Snow Place  42.298188 -71.131232  \n116            70%                   Oak Row  42.277960 -71.172973  \n\n[116 rows x 8 columns]",
      "text/html": "<div>\n<style scoped>\n    .dataframe tbody tr th:only-of-type {\n        vertical-align: middle;\n    }\n\n    .dataframe tbody tr th {\n        vertical-align: top;\n    }\n\n    .dataframe thead th {\n        text-align: right;\n    }\n</style>\n<table border=\"1\" class=\"dataframe\">\n  <thead>\n    <tr style=\"text-align: right;\">\n      <th></th>\n      <th>Neighborhood</th>\n      <th>Address</th>\n      <th>Units</th>\n      <th>Sizes</th>\n      <th>AMI</th>\n      <th>Complex</th>\n      <th>Latitude</th>\n      <th>Longitude</th>\n    </tr>\n  </thead>\n  <tbody>\n    <tr>\n      <th>0</th>\n      <td>Allston</td>\n      <td>8 Griggs Street</td>\n      <td>2.0</td>\n      <td>1BR</td>\n      <td>80-100%; 100%</td>\n      <td>None</td>\n      <td>42.348330</td>\n      <td>-71.133503</td>\n    </tr>\n    <tr>\n      <th>1</th>\n      <td>Allston</td>\n      <td>31 North Beacon Street</td>\n      <td>3.0</td>\n      <td>Studio, 1BR, 2BR</td>\n      <td>70%</td>\n      <td>None</td>\n      <td>42.353909</td>\n      <td>-71.138789</td>\n    </tr>\n    <tr>\n      <th>2</th>\n      <td>Allston</td>\n      <td>40 Malvern Street</td>\n      <td>6.0</td>\n      <td>1BR, 2BR</td>\n      <td>70%</td>\n      <td>None</td>\n      <td>42.354018</td>\n      <td>-71.125015</td>\n    </tr>\n    <tr>\n      <th>3</th>\n      <td>Allston</td>\n      <td>450 Cambridge Street</td>\n      <td>5.0</td>\n      <td>1BR, 2BR</td>\n      <td>70%</td>\n      <td>None</td>\n      <td>42.353926</td>\n      <td>-71.135720</td>\n    </tr>\n    <tr>\n      <th>4</th>\n      <td>Allston</td>\n      <td>1505 Commonwealth Avenue</td>\n      <td>10.0</td>\n      <td>Studio, 1BR, 2BR</td>\n      <td>70%</td>\n      <td>None</td>\n      <td>42.347084</td>\n      <td>-71.141588</td>\n    </tr>\n    <tr>\n      <th>...</th>\n      <td>...</td>\n      <td>...</td>\n      <td>...</td>\n      <td>...</td>\n      <td>...</td>\n      <td>...</td>\n      <td>...</td>\n      <td>...</td>\n    </tr>\n    <tr>\n      <th>112</th>\n      <td>West End</td>\n      <td>None</td>\n      <td>30.0</td>\n      <td>Studio, 1BR, 2BR, 3BR</td>\n      <td>80%, 80-120%</td>\n      <td>Avalon North Station</td>\n      <td>42.365964</td>\n      <td>-71.063249</td>\n    </tr>\n    <tr>\n      <th>113</th>\n      <td>West End</td>\n      <td>1 &amp; 10 Emerson Place</td>\n      <td>19.0</td>\n      <td>Studio, 1BR, 2BR</td>\n      <td>90%</td>\n      <td>Emerson Place</td>\n      <td>42.364165</td>\n      <td>-71.068558</td>\n    </tr>\n    <tr>\n      <th>114</th>\n      <td>West Roxbury</td>\n      <td>446 Belgrade Avenue</td>\n      <td>5.0</td>\n      <td>Studio, 1BR, 2BR, 3BR</td>\n      <td>70%</td>\n      <td>Belgrade Place</td>\n      <td>42.286486</td>\n      <td>-71.150155</td>\n    </tr>\n    <tr>\n      <th>115</th>\n      <td>West Roxbury</td>\n      <td>1215 Centre Street</td>\n      <td>12.0</td>\n      <td>1BR</td>\n      <td>80%</td>\n      <td>Residences at Snow Place</td>\n      <td>42.298188</td>\n      <td>-71.131232</td>\n    </tr>\n    <tr>\n      <th>116</th>\n      <td>West Roxbury</td>\n      <td>1235 VFW Parkway</td>\n      <td>10.0</td>\n      <td>1BR, 2BR, 3BR</td>\n      <td>70%</td>\n      <td>Oak Row</td>\n      <td>42.277960</td>\n      <td>-71.172973</td>\n    </tr>\n  </tbody>\n</table>\n<p>116 rows × 8 columns</p>\n</div>"
     },
     "execution_count": 39,
     "metadata": {},
     "output_type": "execute_result"
    }
   ],
   "source": [
    "\n",
    "source_path = '../data/affordable_rental_units.csv'\n",
    "\n",
    "if not os.path.exists(source_path):\n",
    "    from bs4 import BeautifulSoup\n",
    "    import requests\n",
    "\n",
    "    source_url = 'https://www.bostonplans.org/housing/finding-housing/property-listings'\n",
    "    page_text = requests.get(source_url).text\n",
    "    del source_url\n",
    "\n",
    "    soup = BeautifulSoup(page_text, 'html.parser')\n",
    "    del page_text\n",
    "\n",
    "\n",
    "    spreadsheet_url = soup.find_all('iframe')[-1].get('src')\n",
    "    spreadsheet_url = '/'.join(str(spreadsheet_url).split('/')[:-1] + ['pub?output=csv'])\n",
    "\n",
    "    spreadsheet_content = requests.get(spreadsheet_url, allow_redirects=True).text\n",
    "    spreadsheet_content = re.sub('â\\x80\\x93', '-', spreadsheet_content)\n",
    "\n",
    "    with open(source_path, 'w') as file:\n",
    "        file.write(spreadsheet_content)\n",
    "\n",
    "    del spreadsheet_url\n",
    "    del file\n",
    "    del spreadsheet_content\n",
    "\n",
    "source_pd = pd.read_csv(source_path, skiprows=1)\n",
    "# Rename columns\n",
    "source_pd.columns = ['Neighborhood',\n",
    "                     'Address',\n",
    "                     'Info',\n",
    "                     'Units',\n",
    "                     'Sizes',\n",
    "                     'AMI']\n",
    "#Drop info\n",
    "source_pd = source_pd[['Neighborhood',\n",
    "                     'Address',\n",
    "                     'Units',\n",
    "                     'Sizes',\n",
    "                     'AMI']]\n",
    "\n",
    "# Weak assumption\n",
    "source_pd['Units'] = source_pd['Units'].fillna(1)\n",
    "\n",
    "source_pd = source_pd.dropna()\n",
    "\n",
    "def explode_address(address):\n",
    "    _old = address\n",
    "    if '\\n' in address:\n",
    "        _complex, address = address.split('\\n')\n",
    "    else:\n",
    "        m = re.search(r'^(?:(.*?)??[ ,]*\\s)?(\\d+(?:\\s*[-&]\\s*\\d+)?\\s*.+)', address)\n",
    "        if m:\n",
    "            _complex = m.groups()[0] if len(m.groups()) > 1 else None\n",
    "            address = m.groups()[1]\n",
    "      #      print(f'M Complex: {str(_complex):30} Address: {str(address):30} Old: {_old}\\n{m.groups()}\\n')\n",
    "        else:\n",
    "            _complex = address\n",
    "            address = None\n",
    "     #       print(f'N Complex: {_complex:30} Address: {str(address):30} Old: {_old}\\n')\n",
    "\n",
    "\n",
    "    #return _complex, address, None, None\n",
    "    if _complex:\n",
    "        lat, lon = atc.get_coordinates(_complex + ' Boston')\n",
    "    else:\n",
    "        lat = None\n",
    "\n",
    "    if not lat:\n",
    "        if address:\n",
    "            m = re.search('(\\d+)\\s*[-&]\\s*\\d+\\s*(.*)', address)\n",
    "            if m:\n",
    "                addr = f'{m.group(1)} {m.group(2)}'\n",
    "            else:\n",
    "                addr = address\n",
    "\n",
    "        if address:\n",
    "            lat, lon = atc.get_coordinates(addr + ' Boston')\n",
    "\n",
    "    if not lat:\n",
    "        lat = lon = None\n",
    "\n",
    "    return _complex, address, lat, lon\n",
    "\n",
    "#source_pd[['Complex', 'Address']] = source_pd.apply(lambda r: (None, r['Address']) if not '\\n' in r['Address'] else r['Address'].split('\\n'), axis='columns', result_type='expand')\n",
    "source_pd[['Complex', 'Address', 'Latitude', 'Longitude']] = source_pd.apply(lambda r: explode_address(r['Address']), axis='columns', result_type='expand')\n",
    "\n",
    "\n",
    "source_pd"
   ],
   "metadata": {
    "collapsed": false
   }
  },
  {
   "cell_type": "code",
   "execution_count": 41,
   "outputs": [
    {
     "data": {
      "text/plain": "(None, None)"
     },
     "execution_count": 41,
     "metadata": {},
     "output_type": "execute_result"
    }
   ],
   "source": [
    "atc.get_coordinates('Alyx Boston')"
   ],
   "metadata": {
    "collapsed": false
   }
  },
  {
   "cell_type": "code",
   "execution_count": 123,
   "outputs": [
    {
     "ename": "AttributeError",
     "evalue": "'NoneType' object has no attribute 'latitude'",
     "output_type": "error",
     "traceback": [
      "\u001B[0;31m---------------------------------------------------------------------------\u001B[0m",
      "\u001B[0;31mAttributeError\u001B[0m                            Traceback (most recent call last)",
      "Cell \u001B[0;32mIn[123], line 15\u001B[0m\n\u001B[1;32m     13\u001B[0m atc \u001B[38;5;241m=\u001B[39m BaseATC()\n\u001B[1;32m     14\u001B[0m \u001B[38;5;66;03m#atc.get_coordinates(source_pd.loc[47]['Address'].split('\\n')[-1].split('@')[-1] + ',')\u001B[39;00m\n\u001B[0;32m---> 15\u001B[0m \u001B[43matc\u001B[49m\u001B[38;5;241;43m.\u001B[39;49m\u001B[43mget_coordinates\u001B[49m\u001B[43m(\u001B[49m\u001B[38;5;124;43m'\u001B[39;49m\u001B[38;5;124;43mAvalon @ Prudential, Boston, MA\u001B[39;49m\u001B[38;5;124;43m'\u001B[39;49m\u001B[43m)\u001B[49m\n",
      "File \u001B[0;32m~/Projects/ds-councilor-breadon-bad-landlords2/spring23-team-4/code/address_to_coordinates.py:18\u001B[0m, in \u001B[0;36mAddressToCoordinates.get_coordinates\u001B[0;34m(self, address)\u001B[0m\n\u001B[1;32m     16\u001B[0m \u001B[38;5;28;01mdef\u001B[39;00m \u001B[38;5;21mget_coordinates\u001B[39m(\u001B[38;5;28mself\u001B[39m, address):\n\u001B[1;32m     17\u001B[0m     location \u001B[38;5;241m=\u001B[39m \u001B[38;5;28mself\u001B[39m\u001B[38;5;241m.\u001B[39mgeolocator\u001B[38;5;241m.\u001B[39mgeocode(address)\n\u001B[0;32m---> 18\u001B[0m     \u001B[38;5;28;01mreturn\u001B[39;00m \u001B[43mlocation\u001B[49m\u001B[38;5;241;43m.\u001B[39;49m\u001B[43mlatitude\u001B[49m, location\u001B[38;5;241m.\u001B[39mlongitude\n",
      "\u001B[0;31mAttributeError\u001B[0m: 'NoneType' object has no attribute 'latitude'"
     ]
    }
   ],
   "source": [
    "from address_to_coordinates import AddressToCoordinates as BaseATC\n",
    "\n",
    "class AddressToCoordinates(BaseATC):\n",
    "\n",
    "    def __init__(self):\n",
    "        super().__init__(user_agent=\"SparkBU\")\n",
    "\n",
    "    def get_coordinates(self, address):\n",
    "        chunks = address.split('\\n')\n",
    "        chunks = []\n",
    "\n",
    "\n",
    "atc = BaseATC()\n",
    "#atc.get_coordinates(source_pd.loc[47]['Address'].split('\\n')[-1].split('@')[-1] + ',')\n",
    "atc.get_coordinates('Avalon @ Prudential, Boston, MA')"
   ],
   "metadata": {
    "collapsed": false
   }
  },
  {
   "cell_type": "code",
   "execution_count": null,
   "outputs": [],
   "source": [],
   "metadata": {
    "collapsed": false
   }
  }
 ],
 "metadata": {
  "kernelspec": {
   "display_name": "Python 3",
   "language": "python",
   "name": "python3"
  },
  "language_info": {
   "codemirror_mode": {
    "name": "ipython",
    "version": 2
   },
   "file_extension": ".py",
   "mimetype": "text/x-python",
   "name": "python",
   "nbconvert_exporter": "python",
   "pygments_lexer": "ipython2",
   "version": "2.7.6"
  }
 },
 "nbformat": 4,
 "nbformat_minor": 0
}
