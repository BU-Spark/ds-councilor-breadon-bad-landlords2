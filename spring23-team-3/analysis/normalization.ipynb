{
 "cells": [
  {
   "cell_type": "code",
   "execution_count": 2,
   "metadata": {},
   "outputs": [
    {
     "name": "stderr",
     "output_type": "stream",
     "text": [
      "/var/folders/mf/_0_42kbd2cd4_260mjyyd1w80000gn/T/ipykernel_21467/2102247426.py:4: DtypeWarning: Columns (15,22,24,42) have mixed types. Specify dtype option on import or set low_memory=False.\n",
      "  city_df = pd.read_csv(\"../data/property_assessments.csv\")\n"
     ]
    }
   ],
   "source": [
    "import pandas as pd\n",
    "\n",
    "zip_df = pd.read_csv(\"../data/zip_df.csv\")\n",
    "city_df = pd.read_csv(\"../data/property_assessments.csv\")\n",
    "counts = city_df.groupby('ZIP').count()['PROP_ID']\n",
    "rename = dict()\n",
    "for zip in counts.index:\n",
    "   rename[zip] = '0' + str(int(zip))\n",
    "counts = counts.rename(rename)\n",
    "counts = counts.to_frame('num_builidings')\n",
    "counts = counts.reset_index()\n",
    "counts = counts.rename(columns={'ZIP': 'Location'})\n",
    "zip_df = pd.merge(zip_df, counts, on='Location')\n",
    "zip_df.to_csv('../data/zip_df_with_num_buildings.csv')"
   ]
  }
 ],
 "metadata": {
  "kernelspec": {
   "display_name": "Python 3.9.6 64-bit",
   "language": "python",
   "name": "python3"
  },
  "language_info": {
   "codemirror_mode": {
    "name": "ipython",
    "version": 3
   },
   "file_extension": ".py",
   "mimetype": "text/x-python",
   "name": "python",
   "nbconvert_exporter": "python",
   "pygments_lexer": "ipython3",
   "version": "3.9.6"
  },
  "orig_nbformat": 4,
  "vscode": {
   "interpreter": {
    "hash": "31f2aee4e71d21fbe5cf8b01ff0e069b9275f58929596ceb00d14d90e3e16cd6"
   }
  }
 },
 "nbformat": 4,
 "nbformat_minor": 2
}
